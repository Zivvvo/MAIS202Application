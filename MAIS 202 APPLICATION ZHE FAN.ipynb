{
 "cells": [
  {
   "cell_type": "markdown",
   "metadata": {},
   "source": [
    "The following lines import the necessary packages we need to manipulate and plot csv data.\n",
    "numpy arrays will be used to store temporary lists of information extracted from the original csv files.\n",
    "pandas is an important python package allowing us to change csv tables into dataframe structures for data extraction.\n",
    "matplotlib provided methods which will help us generate a bar graph."
   ]
  },
  {
   "cell_type": "code",
   "execution_count": 9,
   "metadata": {},
   "outputs": [
    {
     "data": {
      "text/plain": [
       "'0.25.1'"
      ]
     },
     "execution_count": 9,
     "metadata": {},
     "output_type": "execute_result"
    }
   ],
   "source": [
    "import numpy as np\n",
    "\n",
    "import pandas as pd\n",
    "\n",
    "import matplotlib.pyplot as plt\n",
    "\n",
    "pd.__version__"
   ]
  },
  {
   "cell_type": "markdown",
   "metadata": {},
   "source": [
    "First, we will load the information from our csv files into a pandas dataframe structure. Make sure that the csv files are in the same directory as the script."
   ]
  },
  {
   "cell_type": "code",
   "execution_count": 10,
   "metadata": {},
   "outputs": [],
   "source": [
    "loan_data = pd.read_csv('loan_data.csv', delimiter = ',')\n",
    "\n",
    "home_ownership_data = pd.read_csv('home_ownership_data.csv', delimiter = ',')"
   ]
  },
  {
   "cell_type": "markdown",
   "metadata": {},
   "source": [
    "We will now generate three series of data using home_ownership_data.\n",
    "The three lists contain the member IDs of the mortgage, rent, and purchased owners.\n",
    "This is acheived through DataFrame.loc method, given a boolean parameter for a certain header in the dataframe,\n",
    "the method will look for rows that contains the specified value. (E.g. \"MORTGAGE\" for \"home_ownership\") Then, the method\n",
    "will look for the value under the second column header specified in the parameter.(E.g. \"member_id\")"
   ]
  },
  {
   "cell_type": "code",
   "execution_count": 11,
   "metadata": {},
   "outputs": [],
   "source": [
    "MORTGAGE_OWNERS = home_ownership_data.loc[(home_ownership_data[\"home_ownership\"]==\"MORTGAGE\"), [\"member_id\"]]\n",
    "RENT_OWNERS = home_ownership_data.loc[(home_ownership_data[\"home_ownership\"]==\"RENT\"),[\"member_id\"]]\n",
    "OWN_OWNERS = home_ownership_data.loc[(home_ownership_data[\"home_ownership\"]==\"OWN\"), [\"member_id\"]]"
   ]
  },
  {
   "cell_type": "markdown",
   "metadata": {},
   "source": [
    "Now, we use the member ids in each series to access the corresponding loan amount data in the loan_data dataframe.\n",
    "We can use DataFrame.loc to access a value in another column in the same row as the member_id provided.\n",
    "In this case, for each member id in the list, we want to access the loan_amnt value in the same row in the loan_data dataframe.\n",
    "We then insert all the loan_data values for each ownership type into three lists."
   ]
  },
  {
   "cell_type": "code",
   "execution_count": 12,
   "metadata": {},
   "outputs": [],
   "source": [
    "MORTGAGE_total = []\n",
    "for i in MORTGAGE_OWNERS[\"member_id\"]:\n",
    "    MORTGAGE_total.append(loan_data.loc[loan_data.member_id == i, 'loan_amnt'].values[0])\n",
    "RENT_total = []\n",
    "for i in RENT_OWNERS[\"member_id\"]:\n",
    "    RENT_total.append(loan_data.loc[loan_data.member_id == i, 'loan_amnt'].values[0])\n",
    "OWN_total = []\n",
    "for i in OWN_OWNERS[\"member_id\"]:\n",
    "    OWN_total.append(loan_data.loc[loan_data.member_id == i, 'loan_amnt'].values[0])"
   ]
  },
  {
   "cell_type": "markdown",
   "metadata": {},
   "source": [
    "We now create a new dataframe containing the following series: home ownership and average loan amounts calculated using numpy.mean()."
   ]
  },
  {
   "cell_type": "code",
   "execution_count": 13,
   "metadata": {},
   "outputs": [
    {
     "data": {
      "text/html": [
       "<div>\n",
       "<style scoped>\n",
       "    .dataframe tbody tr th:only-of-type {\n",
       "        vertical-align: middle;\n",
       "    }\n",
       "\n",
       "    .dataframe tbody tr th {\n",
       "        vertical-align: top;\n",
       "    }\n",
       "\n",
       "    .dataframe thead th {\n",
       "        text-align: right;\n",
       "    }\n",
       "</style>\n",
       "<table border=\"1\" class=\"dataframe\">\n",
       "  <thead>\n",
       "    <tr style=\"text-align: right;\">\n",
       "      <th></th>\n",
       "      <th>home_ownership</th>\n",
       "      <th>loan_amount</th>\n",
       "    </tr>\n",
       "  </thead>\n",
       "  <tbody>\n",
       "    <tr>\n",
       "      <td>0</td>\n",
       "      <td>MORTGAGE</td>\n",
       "      <td>13502.830189</td>\n",
       "    </tr>\n",
       "    <tr>\n",
       "      <td>1</td>\n",
       "      <td>OWN</td>\n",
       "      <td>9603.571429</td>\n",
       "    </tr>\n",
       "    <tr>\n",
       "      <td>2</td>\n",
       "      <td>RENT</td>\n",
       "      <td>11067.481203</td>\n",
       "    </tr>\n",
       "  </tbody>\n",
       "</table>\n",
       "</div>"
      ],
      "text/plain": [
       "  home_ownership   loan_amount\n",
       "0       MORTGAGE  13502.830189\n",
       "1            OWN   9603.571429\n",
       "2           RENT  11067.481203"
      ]
     },
     "execution_count": 13,
     "metadata": {},
     "output_type": "execute_result"
    }
   ],
   "source": [
    "results = pd.DataFrame({'home_ownership':[\"MORTGAGE\",\"OWN\",\"RENT\"], 'loan_amount':[np.mean(MORTGAGE_total),np.mean(OWN_total),np.mean(RENT_total)]})\n",
    "results"
   ]
  },
  {
   "cell_type": "markdown",
   "metadata": {},
   "source": [
    "We use DataFrame.plot to create a bar graph object from our results dataframe with the x axis being home_ownership,\n",
    "and the y axis being loan_amount.\n",
    "\n",
    "plt.show() method can display the bar graph."
   ]
  },
  {
   "cell_type": "code",
   "execution_count": 14,
   "metadata": {
    "scrolled": true
   },
   "outputs": [
    {
     "data": {
      "image/png": "[encoded data removed]",
      "text/plain": [
       "<Figure size 432x288 with 1 Axes>"
      ]
     },
     "metadata": {
      "needs_background": "light"
     },
     "output_type": "display_data"
    }
   ],
   "source": [
    "graph = results.plot.bar(x='home_ownership', y='loan_amount', rot=0, title=\"Average loan amounts per home ownership\")\n",
    "graph.set_xlabel(\"Home Ownership Type\", fontsize=12)\n",
    "graph.set_ylabel(\"Average Loan Amount ($)\", fontsize=12)\n",
    "\n",
    "plt.show()"
   ]
  },
  {
   "cell_type": "code",
   "execution_count": null,
   "metadata": {},
   "outputs": [],
   "source": []
  }
 ],
 "metadata": {
  "kernelspec": {
   "display_name": "Python 3",
   "language": "python",
   "name": "python3"
  },
  "language_info": {
   "codemirror_mode": {
    "name": "ipython",
    "version": 3
   },
   "file_extension": ".py",
   "mimetype": "text/x-python",
   "name": "python",
   "nbconvert_exporter": "python",
   "pygments_lexer": "ipython3",
   "version": "3.7.3"
  }
 },
 "nbformat": 4,
 "nbformat_minor": 2
}
